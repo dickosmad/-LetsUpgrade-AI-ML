{
 "cells": [
  {
   "cell_type": "code",
   "execution_count": 4,
   "metadata": {},
   "outputs": [
    {
     "name": "stdout",
     "output_type": "stream",
     "text": [
      "[2, 4, 6, 8]\n"
     ]
    }
   ],
   "source": [
    "\"\"\"\n",
    "Question 1 : Create an empty list. Accept 10 numbers from the user and append to\n",
    "it the list if it is an even number.\n",
    "\n",
    "\"\"\"\n",
    "def is_even_num(l):\n",
    "    num = []\n",
    "    for n in l:\n",
    "        if n % 2 == 0:\n",
    "            num.append(n)\n",
    "    return num\n",
    "print(is_even_num([1, 2, 3, 4, 5, 6, 7, 8, 9]))"
   ]
  },
  {
   "cell_type": "code",
   "execution_count": 18,
   "metadata": {},
   "outputs": [
    {
     "name": "stdout",
     "output_type": "stream",
     "text": [
      "[1, 8, 27, 64, 125, 216, 343, 512, 729]\n",
      "[1, 4, 4, 1, 0, 1, 4, 4, 1]\n",
      "Coutry starts with P ['Paris', 'Paraguay']\n"
     ]
    },
    {
     "data": {
      "text/plain": [
       "['Paris', 'Paraguay']"
      ]
     },
     "execution_count": 18,
     "metadata": {},
     "output_type": "execute_result"
    }
   ],
   "source": [
    "\n",
    "\"\"\"\n",
    "Question 2 : Create a notebook on LIST COMPREHENSION. \n",
    "This exercise is to put you in a Self learning mode\n",
    "\n",
    "[epxr]\n",
    "\"\"\"\n",
    "#Classic way \n",
    "cubics = []\n",
    "for i in range(1,10):\n",
    "     cubics.append(i**3)\n",
    "print(cubics)\n",
    "\n",
    "#List comprehension\n",
    "[i**3 for i in range(1,10)]\n",
    "remainder = [i**2 % 5 for i in range(1,10)]\n",
    "print(remainder)\n",
    "#Coutries filter : find countries starting with P .\n",
    "countries = ['Paris','India','Banglore','Paraguay']\n",
    "#classic way : \n",
    "c= []\n",
    "for country in countries:\n",
    "    if country.startswith('P'):\n",
    "        c.append(country)\n",
    "print('Coutry starts with P', c)\n",
    "\n",
    "#List comprehension:\n",
    "[country for country in countries if country.startswith('P')]"
   ]
  },
  {
   "cell_type": "code",
   "execution_count": 29,
   "metadata": {},
   "outputs": [
    {
     "data": {
      "text/plain": [
       "{1: 1, 2: 4, 3: 9, 4: 16, 5: 25, 6: 36, 7: 49, 8: 64}"
      ]
     },
     "execution_count": 29,
     "metadata": {},
     "output_type": "execute_result"
    }
   ],
   "source": [
    "\"\"\"\n",
    "Question 3 : In this assignment, given a number n, you have to write a program that generates a dictionary d which\n",
    "contains (i, i*i), where i is from 1 to n (both included).\n",
    "\"\"\"\n",
    "def generate_dict(n):\n",
    "    l = [(i, i**2) for i in range(1, n+1)]\n",
    "    return dict(l)\n",
    "generate_dict(8)"
   ]
  },
  {
   "cell_type": "code",
   "execution_count": null,
   "metadata": {},
   "outputs": [],
   "source": [
    "\"\"\"\n",
    "Question 4 : In this assignment, given a number n, you have to write a program that generates a dictionary d which\n",
    "contains (i, i*i), where i is from 1 to n (both included).\n",
    "\"\"\""
   ]
  }
 ],
 "metadata": {
  "kernelspec": {
   "display_name": "Python 3",
   "language": "python",
   "name": "python3"
  },
  "language_info": {
   "codemirror_mode": {
    "name": "ipython",
    "version": 3
   },
   "file_extension": ".py",
   "mimetype": "text/x-python",
   "name": "python",
   "nbconvert_exporter": "python",
   "pygments_lexer": "ipython3",
   "version": "3.7.6"
  }
 },
 "nbformat": 4,
 "nbformat_minor": 4
}
