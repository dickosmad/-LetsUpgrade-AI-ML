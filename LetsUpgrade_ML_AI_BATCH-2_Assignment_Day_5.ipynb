{
 "cells": [
  {
   "cell_type": "code",
   "execution_count": 1,
   "metadata": {},
   "outputs": [
    {
     "name": "stdout",
     "output_type": "stream",
     "text": [
      "3\n",
      "5\n",
      "7\n",
      "11\n",
      "13\n",
      "17\n",
      "19\n",
      "23\n",
      "29\n",
      "31\n",
      "37\n",
      "41\n",
      "43\n",
      "47\n",
      "53\n",
      "59\n",
      "61\n",
      "67\n",
      "71\n",
      "73\n"
     ]
    }
   ],
   "source": [
    "\"\"\"Question 1 :\n",
    "Write a Python program to find the first 20 non-even prime natural numbers.\n",
    "\"\"\"\n",
    "n = 75\n",
    "for num in range(2,n+1):\n",
    "       if num > 1:\n",
    "            for i in range(2,num):\n",
    "                if (num % i) == 0:\n",
    "                     break\n",
    "            else:\n",
    "                if(num%2!=0):\n",
    "                    print(num)"
   ]
  },
  {
   "cell_type": "code",
   "execution_count": 14,
   "metadata": {},
   "outputs": [
    {
     "name": "stdout",
     "output_type": "stream",
     "text": [
      "5\n",
      "['Hello', 'how', 'are', 'you']\n",
      "10\n",
      "True\n",
      "False\n",
      "TURN TO UPPERCASE\n",
      "Hello good\n",
      "b'Dicko'\n",
      "Hello, how are you\n"
     ]
    }
   ],
   "source": [
    "\"\"\"Question 2 :\n",
    "Write a Python program to implement 15 functions of string.\n",
    "\"\"\"\n",
    "#1 \n",
    "msg = 'Hello'\n",
    "print(len(msg))\n",
    "#2      \n",
    "s = 'Hello how are you'\n",
    "print(s.split())\n",
    "#3\n",
    "msg = 'Python is easy'\n",
    "m = msg.find(\"easy\")\n",
    "print(m)\n",
    "#4 \n",
    "\n",
    "string = \"THIS\"\n",
    "print(string.isupper());\n",
    "#5 startswith() method returns a boolean.It returns False if the string doesn't start with the specified prefix overwise True\n",
    "text = \"Python AI learn.\"\n",
    "result = text.startswith('AI')\n",
    "print(result)\n",
    "\n",
    "#6 \n",
    "text = \"turn to uppercase\"\n",
    "print(text.upper())\n",
    "#7\n",
    "s = 'hello good'\n",
    "print(s.capitalize())\n",
    "#8\n",
    "text = 'Dicko'\n",
    "bytes_encoded = text.encode(encoding='utf-8')\n",
    "print((bytes_encoded))\n",
    "#The replace() method returns a copy of the string where the old substring is replaced with the new substring. The original string is unchanged.\n",
    "song = 'Hello, how are heart'\n",
    "print(song.replace('heart', 'you'))"
   ]
  },
  {
   "cell_type": "code",
   "execution_count": 16,
   "metadata": {},
   "outputs": [
    {
     "name": "stdout",
     "output_type": "stream",
     "text": [
      "None\n"
     ]
    }
   ],
   "source": [
    "\"\"\"Question 3:\n",
    "Write a Python program to check if the given string is a Palindrome or Anagram or None of them. Display\n",
    "the message accordingly to the user.\n",
    "\"\"\"\n",
    "def isPalindrome(s): \n",
    "    return s == s[::-1] \n",
    "\n",
    "def isAnagram(s1, s2):\n",
    "    list_s1 = list(s1)\n",
    "    list_s1.sort()\n",
    "    list_s2 = list(s2)\n",
    "    list_s2.sort()\n",
    "\n",
    "    return (list_s1 == list_s2)\n",
    "\n",
    "\n",
    "s1 = \"Anagram\"\n",
    "s2 = \"Ananas\"\n",
    "\n",
    "if(isPalindrome(s1)):\n",
    "    print(\"Palindrome\")\n",
    "elif(isAnagram(s1,s2)):\n",
    "    print(\"Anagram\")\n",
    "else:\n",
    "    print(\"None\")"
   ]
  }
 ],
 "metadata": {
  "kernelspec": {
   "display_name": "Python 3",
   "language": "python",
   "name": "python3"
  },
  "language_info": {
   "codemirror_mode": {
    "name": "ipython",
    "version": 3
   },
   "file_extension": ".py",
   "mimetype": "text/x-python",
   "name": "python",
   "nbconvert_exporter": "python",
   "pygments_lexer": "ipython3",
   "version": "3.7.6"
  }
 },
 "nbformat": 4,
 "nbformat_minor": 4
}
