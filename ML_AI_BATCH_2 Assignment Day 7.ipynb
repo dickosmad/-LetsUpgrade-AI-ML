{
 "cells": [
  {
   "cell_type": "code",
   "execution_count": 5,
   "metadata": {},
   "outputs": [],
   "source": [
    "#Question 1 :Write a program to copy the contents of one file to another using a for loop.\n",
    "#(Don’t use built-in copy function)\n",
    "\n",
    "f = open(\"original.txt\",\"w\")\n",
    "f.write(\"\\nHello Dicko\")\n",
    "f.write(\"\\nHow are you Dicko\")\n",
    "f.write(\"\\nThanks to Sir Darshan for his teaching\")\n",
    "f.close()\n"
   ]
  },
  {
   "cell_type": "code",
   "execution_count": 4,
   "metadata": {},
   "outputs": [
    {
     "name": "stdout",
     "output_type": "stream",
     "text": [
      "['\\n', 'Hello Dicko\\n', 'How are you Dicko\\n', 'Thanks to Sir Darshan for his teaching']\n"
     ]
    }
   ],
   "source": [
    "#Question 1 : \n",
    "f = open(\"original.txt\", 'r')\n",
    "g = open('copy.txt','w')\n",
    "f_to_list = f.readlines()\n",
    "print(f_to_list)\n",
    "for t in f_to_list:\n",
    "    g.write(t)\n",
    "f.close\n",
    "g.close()\n"
   ]
  },
  {
   "cell_type": "code",
   "execution_count": 3,
   "metadata": {},
   "outputs": [
    {
     "name": "stdout",
     "output_type": "stream",
     "text": [
      "Min value of the dictionnaries is :  2\n",
      "Max value of the dictionnaries is :  9\n"
     ]
    }
   ],
   "source": [
    "#Question 2:Write a Python program to find maximum and minimum values in the dictionary.\n",
    "#Do not use built-in min and max functions\n",
    "\n",
    "def get_max_val(value):\n",
    "    max_value = None\n",
    "    for val in value:\n",
    "        if max_value is None or max_value < value[val]:\n",
    "            max_value = value[val]\n",
    "            max_key = val\n",
    "    return max_value\n",
    "\n",
    "def get_min_val(value):\n",
    "    min_value = None\n",
    "    for val in value:\n",
    "        if min_value is None or min_value > value[val]:\n",
    "            min_value = value[val]\n",
    "            min_key = val\n",
    "    return min_value\n",
    "value = {'a':7, 'b':9 , 'c':2 }\n",
    "print('Min value of the dictionnaries is : ',  get_min_val(value))\n",
    "print('Max value of the dictionnaries is : ', get_max_val(value))"
   ]
  }
 ],
 "metadata": {
  "kernelspec": {
   "display_name": "Python 3",
   "language": "python",
   "name": "python3"
  },
  "language_info": {
   "codemirror_mode": {
    "name": "ipython",
    "version": 3
   },
   "file_extension": ".py",
   "mimetype": "text/x-python",
   "name": "python",
   "nbconvert_exporter": "python",
   "pygments_lexer": "ipython3",
   "version": "3.7.6"
  }
 },
 "nbformat": 4,
 "nbformat_minor": 4
}
