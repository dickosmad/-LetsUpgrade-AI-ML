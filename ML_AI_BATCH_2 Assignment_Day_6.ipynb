{
 "cells": [
  {
   "cell_type": "code",
   "execution_count": 1,
   "metadata": {},
   "outputs": [
    {
     "name": "stdout",
     "output_type": "stream",
     "text": [
      "sfr\n"
     ]
    }
   ],
   "source": [
    "\"\"\"Question 1 :\n",
    "Assuming that we have some email addresses in the \"username@companyname.com\" format, please\n",
    "write a program to print the company name of a given email address. Both user names and company\n",
    "names are composed of letters only.\n",
    "Input Format:\n",
    "The first line of the input contains an email address.\n",
    "Output Format:\n",
    "Print the company name in a single line.\n",
    "Example;\n",
    "Input:\n",
    "john@google.com\n",
    "Output:\n",
    "google.\n",
    "\n",
    "\"\"\"\n",
    "def company_name(email):\n",
    "    seperate_by_at = email.split('@');\n",
    "    separate = seperate_by_at[1].split('.')\n",
    "    return separate[0]\n",
    "email = \"mohamed@sfr.com\"\n",
    "print(company_name(email))"
   ]
  },
  {
   "cell_type": "code",
   "execution_count": 5,
   "metadata": {},
   "outputs": [
    {
     "name": "stdout",
     "output_type": "stream",
     "text": [
      "enter data to sort separated by comma hello,mohamed,dicko\n",
      "Sorted word are :  dicko, hello, mohamed\n"
     ]
    }
   ],
   "source": [
    "\"\"\" Question 2 :\n",
    "Write a program that accepts a comma-separated sequence of words as input and prints the words in a\n",
    "comma-separated sequence after sorting them alphabetically.\n",
    "Input Format:\n",
    "The first line of input contains words separated by the comma.\n",
    "Output Format:\n",
    "Print the sorted words separated by the comma.\n",
    "Example:\n",
    "Input:\n",
    "without,hello,bag,world\n",
    "Output:\n",
    "bag,hello,without,world\n",
    "\n",
    "\"\"\"\n",
    "#Enter a comma separated word by the user\n",
    "comma_separate_words=[x for x in input(\"enter data to sort separated by comma \").split(',')]\n",
    "#Sort the word\n",
    "comma_separate_words.sort()\n",
    "print('Sorted word are : ' , ', '.join(comma_separate_words))"
   ]
  },
  {
   "cell_type": "code",
   "execution_count": 9,
   "metadata": {},
   "outputs": [
    {
     "name": "stdout",
     "output_type": "stream",
     "text": [
      "\n",
      "Enter the range of numbers from 1 to n separated by space : 1 3 4 5\n",
      "The missing number is :  2\n"
     ]
    }
   ],
   "source": [
    "\"\"\" Question 4:\n",
    "Given a list of n-1 numbers ranging from 1 to n, your task is to find the missing number. There are no\n",
    "duplicates.\n",
    "Input Format:\n",
    "The first line contains n-1 numbers with each number separated by a space.\n",
    "Output Format:\n",
    "Print the missing number\n",
    "Example:\n",
    "Input:\n",
    "1 2 4 6 3 7 8\n",
    "Output:\n",
    "5\n",
    "Explanation:\n",
    "In the above list of numbers 5 is missing and hence 5 is the input\n",
    "\n",
    "\"\"\"\n",
    "def get_missing_number(n):\n",
    "    # mathematic formula  of sum of Gauss :  l(l+1) / 2 with l the length of the sequence\n",
    "    \n",
    "    l = len(n) + 1 \n",
    "    \n",
    "    actual_Sum = l*(l+1)//2    # integer division\n",
    "    # the difference beetwen actual_Sum an the sum of the list will give the missing number\n",
    "    missing_number = actual_Sum - sum(n)\n",
    "    return missing_number\n",
    "\n",
    "#Enter a sequence number by the user\n",
    "n = list(map(int,input(\"\\nEnter the range of numbers from 1 to n separated by space : \").strip().split()))\n",
    "print('The missing number is : ' , get_missing_number(n))"
   ]
  },
  {
   "cell_type": "code",
   "execution_count": 10,
   "metadata": {},
   "outputs": [
    {
     "name": "stdout",
     "output_type": "stream",
     "text": [
      "\n",
      "Enter the range of numbers from 1 to n separated by space : 1 1 2 2 3 3 \n",
      "[1, 2, 3]\n"
     ]
    }
   ],
   "source": [
    "\"\"\" Question 5:\n",
    "With a given list L, write a program to print this list L after removing all duplicate values with original order\n",
    "reserved.\n",
    "Example:\n",
    "If the input list is\n",
    "12 24 35 24 88 120 155 88 120 155\n",
    "Then the output should be\n",
    "12 24 35 88 120 155\n",
    "Explanation:\n",
    "Third, the seventh and ninth element of the list L has been removed because it was already present.\n",
    "Input Format:\n",
    "In one line take the elements of the list L with each element separated by a space.\n",
    "Output Format:\n",
    "Print the elements of the modified list in one line with each element separated by a space.\n",
    "Example:\n",
    "Input:\n",
    "12 24 35 24\n",
    "Output:\n",
    "12 24 35\n",
    "\n",
    "\"\"\"\n",
    "#Enter a sequence number by the user\n",
    "l = list(map(int,input(\"\\nEnter the range of numbers from 1 to n separated by space : \").strip().split()))\n",
    "# We will use dictionnaries as dictionnaries don't have duplicate \n",
    "remove_duplicate = list(dict.fromkeys(l))\n",
    "print(remove_duplicate)\n"
   ]
  }
 ],
 "metadata": {
  "kernelspec": {
   "display_name": "Python 3",
   "language": "python",
   "name": "python3"
  },
  "language_info": {
   "codemirror_mode": {
    "name": "ipython",
    "version": 3
   },
   "file_extension": ".py",
   "mimetype": "text/x-python",
   "name": "python",
   "nbconvert_exporter": "python",
   "pygments_lexer": "ipython3",
   "version": "3.7.6"
  }
 },
 "nbformat": 4,
 "nbformat_minor": 4
}
