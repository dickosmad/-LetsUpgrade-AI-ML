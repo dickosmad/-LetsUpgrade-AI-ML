{
 "cells": [
  {
   "cell_type": "code",
   "execution_count": 10,
   "metadata": {},
   "outputs": [
    {
     "name": "stdout",
     "output_type": "stream",
     "text": [
      "Map value :  [1, 8, 27, 64, 125]\n",
      "lambda sum :  3\n",
      "filter is :  [1, 3, 5, 13]\n"
     ]
    }
   ],
   "source": [
    "Question 2:\n",
    "Recreate your own Python NB for “Classes and Objects” from the pdf provided namely\n",
    "“Classes&Objects.pdf”\n",
    "\n",
    "# map(function, iterables)\n",
    "def power3(x):\n",
    "    return x*x*x\n",
    "# let map through the code\n",
    "x = map(power3,[1,2,3,4,5])  # point to <map at 0x20eaf0e8688>\n",
    "#convert to list \n",
    "print( 'Map value : ',list(x))\n",
    "\n",
    "# lambda function\n",
    "add_one = lambda x: x + 1\n",
    "\n",
    "print('lambda sum : ',add_one(2) )\n",
    "\n",
    "# filter(function, iterables)\n",
    "#filter check if it's true or false and return an array\n",
    "l = [0, 1, 2, 3, 5, 8, 13]\n",
    "result = filter(lambda x: x % 2 != 0, l) \n",
    "print('filter is : ', list(result)) \n",
    "  "
   ]
  },
  {
   "cell_type": "code",
   "execution_count": 12,
   "metadata": {},
   "outputs": [
    {
     "name": "stdout",
     "output_type": "stream",
     "text": [
      "<__main__.Student object at 0x0000020EAF0F2348>\n"
     ]
    }
   ],
   "source": [
    "\"\"\"\n",
    "Question 2:\n",
    "Recreate your own Python NB for “Classes and Objects” from the pdf provided namely\n",
    "“Classes&Objects.pdf”\n",
    "\"\"\"\n",
    "class Student:\n",
    "    def __init__(self,name,firstName):\n",
    "        self.name = name\n",
    "        self.firstName = firstName\n",
    "student = Student('Dicko', 'Mohamed')\n",
    "\n",
    "print(student)"
   ]
  }
 ],
 "metadata": {
  "kernelspec": {
   "display_name": "Python 3",
   "language": "python",
   "name": "python3"
  },
  "language_info": {
   "codemirror_mode": {
    "name": "ipython",
    "version": 3
   },
   "file_extension": ".py",
   "mimetype": "text/x-python",
   "name": "python",
   "nbconvert_exporter": "python",
   "pygments_lexer": "ipython3",
   "version": "3.7.6"
  }
 },
 "nbformat": 4,
 "nbformat_minor": 4
}
