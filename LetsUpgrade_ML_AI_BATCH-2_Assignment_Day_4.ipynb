{
 "cells": [
  {
   "cell_type": "code",
   "execution_count": 16,
   "metadata": {},
   "outputs": [
    {
     "name": "stdout",
     "output_type": "stream",
     "text": [
      "Addition of Z1 and Z2 (5+5j)\n",
      "The difference of Z1 and Z2 (-1-1j)\n",
      "The multiplication of Z1 and Z2 12j\n",
      "The division beetwen  Z1 and Z2 (0.6666666666666666+0j)\n",
      "The modulo of   Z 2.8284271247461903\n"
     ]
    }
   ],
   "source": [
    "\"\"\"Question 1 :\n",
    "Research on whether addition, subtraction, multiplication, division, floor division, and modulo operations\n",
    "be performed on complex numbers. Based on your study, implement a Python program to demonstrate\n",
    "these operations.\n",
    "\"\"\"\n",
    "import math \n",
    "#To add two complex numbers , add the real part to the real part and the imaginary part to the imaginary part.\n",
    "#(a+bi)+(c+di)=(a+c)+(b+d)i\n",
    "# Python program :\n",
    "Z1 = 2 +2j\n",
    "Z2 = 3 +3j\n",
    "\n",
    "add = Z1 + Z2\n",
    "print(\"Addition of Z1 and Z2\", add)\n",
    "\n",
    "#To subtract two complex numbers, subtract the real part from the real part and the imaginary part from the imaginary part.\n",
    "#(a+bi)−(c+di)=(a−c)+(b−d)i\n",
    "# Python program :\n",
    "\n",
    "diff = Z1 - Z2 \n",
    "print(\"The difference of Z1 and Z2\", diff)\n",
    "\n",
    "#To multiply two complex numbers, we apply the distributive property  method and combine like terms .\n",
    "#(a+bi)(c+di)= ac+adi+bci+bdi^2 = ac+(ad+bc)i−bd   (Remember i^2=−1) = (ac−bd)+(ad+bc)i\n",
    "# Python program :\n",
    "\n",
    "multiply = Z1*Z2 \n",
    "print(\"The multiplication of Z1 and Z2\", multiply)\n",
    "\n",
    "#To divide two complex numbers, multiply the numerator and denominator by the complex conjugate , expand and simplify .\n",
    "#(a+bi)/(c+di) = [(ac + bd) + (bc − ad)i] / (c^2 + d^2)\n",
    "# Python program :\n",
    "\n",
    "division = Z1/Z2\n",
    "print(\"The division beetwen  Z1 and Z2\", division)\n",
    "\n",
    "#The floor division of complex is not possible as classic operation ,you can do it by using a library called mpmath  \n",
    "\n",
    "#dfloor = math.floor(division) #It will throw an error \n",
    "\n",
    "#print(dfloor)\n",
    "\n",
    "#Given a complex number z = a + ib the modulus is denoted by |z| and is defined |z| = sqrt(a^2 + b^2)\n",
    "Z =  2 +2j\n",
    "Zmodulo = math.sqrt(2*2 + 2*2)\n",
    "print(\"The modulo of Z is : \", Zmodulo)\n",
    "\n"
   ]
  },
  {
   "cell_type": "markdown",
   "metadata": {},
   "source": [
    "## Question 2 :\n",
    "#### Research on range() functions and its parameters. Create a markdown cell and write in your own words\n",
    "#### (no copy-paste from google please) what you understand about it. Implement a small program of your\n",
    "#### choice on the same.\n",
    "\n",
    "* Range(start-optional-default=0 , stop-Required, step-optional-Default=1)\n",
    "* it generates a list of numbers, which is generally used to iterate over with for loops and must be integers.\n",
    "\n",
    "\n",
    "\n"
   ]
  },
  {
   "cell_type": "code",
   "execution_count": 19,
   "metadata": {},
   "outputs": [
    {
     "name": "stdout",
     "output_type": "stream",
     "text": [
      "1\n",
      "2\n"
     ]
    }
   ],
   "source": [
    "#Question 2 : Range implementation : \n",
    "r = range(1, 3)\n",
    "for i in r:\n",
    "  print(i)"
   ]
  },
  {
   "cell_type": "code",
   "execution_count": 25,
   "metadata": {},
   "outputs": [
    {
     "name": "stdout",
     "output_type": "stream",
     "text": [
      "Enter interger value of a : 60\n",
      "Enter integer value of b : 10\n",
      "differnce is greater than 25  : 600\n"
     ]
    }
   ],
   "source": [
    "\"\"\"Question 3:\n",
    "Consider two numbers. Perform their subtraction and if the result of subtraction is greater than 25, print\n",
    "their multiplication result else print their division result.\n",
    "\"\"\"\n",
    "a = int(input('Enter interger value of a : '))\n",
    "b = int(input('Enter integer value of b : '))\n",
    "diff = a - b\n",
    "if diff > 25:\n",
    "    print (\"differnce is greater than 25  :\", a*b)\n",
    "else:\n",
    "    print(\"differnce is less than 25 : \" , a/b)\n"
   ]
  },
  {
   "cell_type": "code",
   "execution_count": 1,
   "metadata": {},
   "outputs": [
    {
     "name": "stdout",
     "output_type": "stream",
     "text": [
      "square of that number 0  minus 2 is  :  -2\n",
      "square of that number 2  minus 2 is  :  2\n",
      "square of that number 4  minus 2 is  :  14\n",
      "square of that number 6  minus 2 is  :  34\n",
      "square of that number 8  minus 2 is  :  62\n"
     ]
    }
   ],
   "source": [
    "\"\"\"Question 4:\n",
    "Consider a list of 10 elements of integer values. If the number in the list is divisible by 2, print the result as\n",
    "\"square of that number minus 2\".\n",
    "\"\"\"\n",
    "r= range(0,10) \n",
    "for i in r:\n",
    "    if i%2 ==0:\n",
    "        number = r[i]\n",
    "        print(\"square of that number\", i , \" minus 2 is  : \" , (number**2) - 2)"
   ]
  },
  {
   "cell_type": "code",
   "execution_count": 15,
   "metadata": {},
   "outputs": [
    {
     "name": "stdout",
     "output_type": "stream",
     "text": [
      "num 70\n",
      "num 80\n",
      "num 10\n",
      "num 120\n"
     ]
    }
   ],
   "source": [
    "\"\"\"Question 5:\n",
    "Consider a list of 10 elements. Print all the elements in the list which are greater than 7 when that number\n",
    "is divided 2.\n",
    "\"\"\"\n",
    "value = [2,5,70,80,9,10,115,120,125,13]\n",
    "for i in value:\n",
    "    if (i%2 == 0 and i > 7):\n",
    "        print (\"num\" , i )"
   ]
  }
 ],
 "metadata": {
  "kernelspec": {
   "display_name": "Python 3",
   "language": "python",
   "name": "python3"
  }
 },
 "nbformat": 4,
 "nbformat_minor": 4
}
