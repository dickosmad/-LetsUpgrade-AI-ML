{
 "cells": [
  {
   "cell_type": "code",
   "execution_count": null,
   "metadata": {},
   "outputs": [],
   "source": [
    "#Assignment Day 3 | 2nd September 2020\n"
   ]
  },
  {
   "cell_type": "code",
   "execution_count": 1,
   "metadata": {},
   "outputs": [
    {
     "name": "stdout",
     "output_type": "stream",
     "text": [
      "1j\n"
     ]
    }
   ],
   "source": [
    "#Question 1:\n",
    "#Write a program to subtract two complex numbers in Python.\n",
    "\n",
    "a = 1 + 5j \n",
    "b = 1 + 4j \n",
    "diff = a - b \n",
    "print(diff)"
   ]
  },
  {
   "cell_type": "code",
   "execution_count": 3,
   "metadata": {},
   "outputs": [
    {
     "name": "stdout",
     "output_type": "stream",
     "text": [
      "2.0\n"
     ]
    }
   ],
   "source": [
    "#Question 2:\n",
    "#Write a program to find the fourth root of a number in Python.\n",
    "\n",
    "number = 16\n",
    "\n",
    "fourth_root = number**(1/4)\n",
    "\n",
    "print(fourth_root)"
   ]
  },
  {
   "cell_type": "code",
   "execution_count": 5,
   "metadata": {},
   "outputs": [
    {
     "name": "stdout",
     "output_type": "stream",
     "text": [
      "After the swap , a and b respectively :  10 5\n"
     ]
    }
   ],
   "source": [
    "#Question 3:\n",
    "#Write a program to swap two numbers in Python with the help of a temporary variable\n",
    "a  = 5 \n",
    "b = 10\n",
    "temp = a\n",
    "a = b  \n",
    "b = temp\n",
    "print(\"After the swap , a and b respectively : \", a , b)"
   ]
  },
  {
   "cell_type": "code",
   "execution_count": 4,
   "metadata": {},
   "outputs": [
    {
     "name": "stdout",
     "output_type": "stream",
     "text": [
      "After the swap , a and b respectively :  10 5\n"
     ]
    }
   ],
   "source": [
    "#Question 4:\n",
    "#Write a program to swap two numbers in Python without the help of a temporary variable\n",
    "a  = 5\n",
    "b  = 10\n",
    "a = a + b\n",
    "b = a - b\n",
    "a = a - b \n",
    "print(\"After the swap , a and b respectively : \" ,a , b)"
   ]
  },
  {
   "cell_type": "code",
   "execution_count": 14,
   "metadata": {},
   "outputs": [
    {
     "name": "stdout",
     "output_type": "stream",
     "text": [
      "Temperature in Farheneih : 23\n",
      "Temparture in °K is :  268.15000000000003\n",
      "Temparture in °C is :  -5.0\n"
     ]
    }
   ],
   "source": [
    "#Question 5:\n",
    "#Write a program to convert Fahrenheit to kelvin and celsius both.\n",
    "TempFara = float(input('Temperature in Farheneih : '))\n",
    "FarheneihToKelvin = (TempFara + 459.67)* (5/9)\n",
    "FarheneihToCelcius = (TempFara - 32) * (5/9)\n",
    "\n",
    "print(\"Temparture in °K is : \" ,FarheneihToKelvin )\n",
    "print(\"Temparture in °C is : \" ,FarheneihToCelcius )"
   ]
  },
  {
   "cell_type": "code",
   "execution_count": 6,
   "metadata": {},
   "outputs": [
    {
     "name": "stdout",
     "output_type": "stream",
     "text": [
      "<class 'int'>\n",
      "<class 'float'>\n",
      "<class 'complex'>\n",
      "<class 'bool'>\n",
      "<class 'str'>\n",
      "<class 'list'>\n",
      "<class 'tuple'>\n",
      "<class 'dict'>\n",
      "<class 'set'>\n"
     ]
    }
   ],
   "source": [
    "#Question 6:\n",
    "#Write a program to demonstrate all the available data types in Python. Hint: Use type() function.\n",
    "#determine int type\n",
    "print(type(0))\n",
    "\n",
    "#determine float type \n",
    "print(type(1.0))\n",
    "\n",
    "#complex type\n",
    "print(type(complex(1, 1)))\n",
    "\n",
    "#boolean type\n",
    "print(type(True))\n",
    "\n",
    "#Type of list, tuple\n",
    "print(type('Dicko'))\n",
    "\n",
    "listType = [\"dicko\",4, 1+2j]\n",
    "print(type(listType))\n",
    "\n",
    "tupleType = (\"dicko\",4, 1+2j)\n",
    "print(type(t))\n",
    "\n",
    "# Dictionary type \n",
    "dictType = {'Name': 'Dicko',  'FirstName': 'Mohamed'}\n",
    "print(type(dictType))\n",
    "\n",
    "#Set type\n",
    "mySet = set([\"s\", \"i\", \"d\",\"i\"]) \n",
    "print(type(mySet))\n"
   ]
  }
 ],
 "metadata": {
  "kernelspec": {
   "display_name": "Python 3",
   "language": "python",
   "name": "python3"
  },
  "language_info": {
   "codemirror_mode": {
    "name": "ipython",
    "version": 3
   },
   "file_extension": ".py",
   "mimetype": "text/x-python",
   "name": "python",
   "nbconvert_exporter": "python",
   "pygments_lexer": "ipython3",
   "version": "3.7.6"
  }
 },
 "nbformat": 4,
 "nbformat_minor": 4
}
