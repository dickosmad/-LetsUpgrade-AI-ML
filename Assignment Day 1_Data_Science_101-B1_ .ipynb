{
 "cells": [
  {
   "cell_type": "code",
   "execution_count": 1,
   "metadata": {},
   "outputs": [
    {
     "name": "stdout",
     "output_type": "stream",
     "text": [
      "Correct word instead of OBANWRI is :  RAINBOW\n"
     ]
    }
   ],
   "source": [
    "\"\"\"\n",
    "Question 1 : Given the following jumbled word, \n",
    "OBANWRI guess the correct English word.\n",
    "\n",
    "\n",
    "\"\"\"\n",
    "A = \"RANIBOW\"\n",
    "B = \"RAINBOW\"\n",
    "C = \"BOWRANI\"\n",
    "D = \"ROBWANI\"\n",
    "print('Correct word instead of OBANWRI is : ',B)"
   ]
  },
  {
   "cell_type": "code",
   "execution_count": 4,
   "metadata": {},
   "outputs": [
    {
     "name": "stdout",
     "output_type": "stream",
     "text": [
      "LETS UPGRADE\n"
     ]
    }
   ],
   "source": [
    "\"\"\"\n",
    "Question 2 : Write a program which prints “LETS UPGRADE”. (Please note that you have to\n",
    "print in ALL CAPS as given)\n",
    "\n",
    "\"\"\"\n",
    "print(\"LETS UPGRADE\")"
   ]
  },
  {
   "cell_type": "code",
   "execution_count": 2,
   "metadata": {},
   "outputs": [
    {
     "name": "stdout",
     "output_type": "stream",
     "text": [
      "50\n",
      "20\n",
      "Loss\n"
     ]
    }
   ],
   "source": [
    "\"\"\"\n",
    "Question 3 : Write a program that takes cost price and selling price as input and displays whether the transaction is a\n",
    "Profit or a Loss or Neither.\n",
    "\n",
    "\"\"\"\n",
    "cost = int(input())\n",
    "selling_price = int(input())\n",
    "if selling_price > cost:\n",
    "    print('Profit')\n",
    "elif selling_price < cost:\n",
    "    print('Loss')\n",
    "else:\n",
    "    print('Neither')"
   ]
  },
  {
   "cell_type": "code",
   "execution_count": 3,
   "metadata": {},
   "outputs": [
    {
     "name": "stdout",
     "output_type": "stream",
     "text": [
      "20\n",
      "Your money to Rupees is : 1600\n"
     ]
    }
   ],
   "source": [
    "\"\"\"\n",
    "Question 4 : Write a program that takes an amount in Euros as input. You need to find its equivalent in\n",
    "Rupees and display it. Assume 1 Euro equals Rs. 80.\n",
    "\n",
    "\"\"\"\n",
    "Euros = int(input())\n",
    "Euros_to_Rupees = Euros*80\n",
    "print('Your money to Rupees is :', Euros_to_Rupees)"
   ]
  }
 ],
 "metadata": {
  "kernelspec": {
   "display_name": "Python 3",
   "language": "python",
   "name": "python3"
  },
  "language_info": {
   "codemirror_mode": {
    "name": "ipython",
    "version": 3
   },
   "file_extension": ".py",
   "mimetype": "text/x-python",
   "name": "python",
   "nbconvert_exporter": "python",
   "pygments_lexer": "ipython3",
   "version": "3.7.6"
  }
 },
 "nbformat": 4,
 "nbformat_minor": 4
}
