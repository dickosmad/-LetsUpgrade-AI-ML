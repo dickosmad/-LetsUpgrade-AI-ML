{
 "cells": [
  {
   "cell_type": "code",
   "execution_count": 2,
   "metadata": {},
   "outputs": [],
   "source": [
    "import numpy as np"
   ]
  },
  {
   "cell_type": "code",
   "execution_count": 4,
   "metadata": {},
   "outputs": [
    {
     "name": "stdout",
     "output_type": "stream",
     "text": [
      "Contents of the Array :  [ 2  5  8 11 14 17 20 23 26 29 32 35 38 41 44 47]\n"
     ]
    }
   ],
   "source": [
    "#Question 1 \n",
    "#Create a numpy array starting from 2 till 50 with a stepsize of 3.\n",
    "# Start = , Stop = 30, Step Size = 2\n",
    "arr = np.arange(2, 50, 3)\n",
    "print('Contents of the Array : ', arr)"
   ]
  },
  {
   "cell_type": "code",
   "execution_count": 11,
   "metadata": {},
   "outputs": [
    {
     "name": "stdout",
     "output_type": "stream",
     "text": [
      "Enter the list items : 1 2 3 \n",
      "Enter the list items : 4 5 6\n",
      "[1 2 3]\n",
      "[4 5 6]\n"
     ]
    }
   ],
   "source": [
    "#Question 2 : Accept two lists of 5 elements each from the user.\n",
    "l1 = [int(item) for item in input(\"Enter the list items : \").split()] \n",
    "  \n",
    "l2 = [int(item) for item in input(\"Enter the list items : \").split()] \n",
    "arr1 = np.array(l1)\n",
    "arr2 = np.array(l2)\n",
    "print(arr1)\n",
    "print(arr2)"
   ]
  },
  {
   "cell_type": "code",
   "execution_count": 18,
   "metadata": {},
   "outputs": [
    {
     "name": "stdout",
     "output_type": "stream",
     "text": [
      "[0 1 2 3 4 5] , Array type :  int32\n",
      "Dimension of array :  1\n",
      "Size of array :  6\n"
     ]
    }
   ],
   "source": [
    "#Questions 3:Write a code snippet to find the dimensions of a ndarray and its size.\n",
    "arr = np.arange(6)\n",
    "print(arr,\", Array type : \" , arr.dtype)\n",
    "# Dimension : \n",
    "print('Dimension of array : ' , arr.ndim)\n",
    "#size: \n",
    "print('Size of array : ' , arr.size)"
   ]
  },
  {
   "cell_type": "code",
   "execution_count": 27,
   "metadata": {},
   "outputs": [
    {
     "data": {
      "text/plain": [
       "array([[0, 1, 2],\n",
       "       [3, 4, 5]])"
      ]
     },
     "execution_count": 27,
     "metadata": {},
     "output_type": "execute_result"
    }
   ],
   "source": [
    "#Questions 4: How to convert a 1D array into a 2D array? Demonstrate with the help of a code snippet\n",
    "arr = np.arange(6)\n",
    "a_2D = arr.reshape(2,3)\n",
    "a_2D"
   ]
  },
  {
   "cell_type": "code",
   "execution_count": 52,
   "metadata": {},
   "outputs": [
    {
     "name": "stdout",
     "output_type": "stream",
     "text": [
      "[[ 1  4  7]\n",
      " [10 13 16]\n",
      " [19 22 25]]\n",
      "[[ 1  3  5]\n",
      " [ 7  9 11]\n",
      " [13 15 17]]\n",
      "Vertical Append: [[ 1  4  7]\n",
      " [10 13 16]\n",
      " [19 22 25]\n",
      " [ 1  3  5]\n",
      " [ 7  9 11]\n",
      " [13 15 17]]\n",
      "Horinzontal Append: [[ 1  4  7  1  3  5]\n",
      " [10 13 16  7  9 11]\n",
      " [19 22 25 13 15 17]]\n"
     ]
    }
   ],
   "source": [
    "#Questions 4:\n",
    "A = np.arange(1, 26,3).reshape(3,3)\n",
    "print(A)\n",
    "B = np.arange(1, 19,2).reshape(3,3)\n",
    "print(B)\n",
    "print('Vertical Append:', np.vstack((A, B)))\n",
    "print('Horinzontal Append:', np.hstack((A, B)))"
   ]
  },
  {
   "cell_type": "code",
   "execution_count": 56,
   "metadata": {},
   "outputs": [
    {
     "data": {
      "text/plain": [
       "array([1, 2, 3])"
      ]
     },
     "execution_count": 56,
     "metadata": {},
     "output_type": "execute_result"
    }
   ],
   "source": [
    "#Questions 6:How to get unique items and counts of unique items?\n",
    "arr = [1, 1, 2, 2, 3, 3]\n",
    "np.unique(arr)\n"
   ]
  }
 ],
 "metadata": {
  "kernelspec": {
   "display_name": "Python 3",
   "language": "python",
   "name": "python3"
  },
  "language_info": {
   "codemirror_mode": {
    "name": "ipython",
    "version": 3
   },
   "file_extension": ".py",
   "mimetype": "text/x-python",
   "name": "python",
   "nbconvert_exporter": "python",
   "pygments_lexer": "ipython3",
   "version": "3.7.6"
  }
 },
 "nbformat": 4,
 "nbformat_minor": 4
}
